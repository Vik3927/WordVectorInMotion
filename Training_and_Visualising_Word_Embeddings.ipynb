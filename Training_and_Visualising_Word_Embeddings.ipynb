{
  "cells": [
    {
      "cell_type": "markdown",
      "id": "17f3eea2",
      "metadata": {
        "id": "17f3eea2"
      },
      "source": [
        "### Loading Data"
      ]
    },
    {
      "cell_type": "code",
      "execution_count": null,
      "id": "f4e7712f",
      "metadata": {
        "colab": {
          "base_uri": "https://localhost:8080/"
        },
        "id": "f4e7712f",
        "outputId": "2dff619d-7b28-4e9c-df66-903b3ae7d8f7"
      },
      "outputs": [
        {
          "output_type": "stream",
          "name": "stdout",
          "text": [
            "['The future king is the prince\\n', 'Daughter is the future princess\\n', 'Son is the prince\\n', 'Only a man can be a king\\n', 'Only a woman can be a queen\\n', 'The princess will be a queen\\n', 'The prince is a strong boy\\n', 'The princess is a beautiful girl\\n', 'The princess will be a beautiful woman\\n', 'Prince is only a boy now\\n', 'Prince will be king\\n', 'A boy will be a man\\n', 'The Man will be a strong king']\n"
          ]
        }
      ],
      "source": [
        "file = open('Royal_data.txt', 'r')\n",
        "royal_data = file.readlines()\n",
        "print(royal_data)\n",
        "file.close()"
      ]
    },
    {
      "cell_type": "markdown",
      "id": "1369aa51",
      "metadata": {
        "id": "1369aa51"
      },
      "source": [
        "### Removing '\\n' from the end of every sentence and convert the sentence into lowercase   \n"
      ]
    },
    {
      "cell_type": "code",
      "execution_count": null,
      "id": "88af9298",
      "metadata": {
        "colab": {
          "base_uri": "https://localhost:8080/"
        },
        "id": "88af9298",
        "outputId": "bb6be05c-17ac-4c1a-c33d-90d299627f25"
      },
      "outputs": [
        {
          "output_type": "stream",
          "name": "stdout",
          "text": [
            "['the future king is the prince', 'daughter is the future princess', 'son is the prince', 'only a man can be a king', 'only a woman can be a queen', 'the princess will be a queen', 'the prince is a strong boy', 'the princess is a beautiful girl', 'the princess will be a beautiful woman', 'prince is only a boy now', 'prince will be king', 'a boy will be a man', 'the man will be a strong king']\n"
          ]
        }
      ],
      "source": [
        "for i in range(len(royal_data)):\n",
        "    royal_data[i] = royal_data[i].lower().replace('\\n', '')\n",
        "\n",
        "print(royal_data)\n"
      ]
    },
    {
      "cell_type": "markdown",
      "id": "03c1aec2",
      "metadata": {
        "id": "03c1aec2"
      },
      "source": [
        "### Removing stop words\n"
      ]
    },
    {
      "cell_type": "code",
      "execution_count": null,
      "id": "236da810",
      "metadata": {
        "colab": {
          "base_uri": "https://localhost:8080/"
        },
        "id": "236da810",
        "outputId": "1a94200a-67eb-4362-8c3a-c32cf44908c5"
      },
      "outputs": [
        {
          "output_type": "stream",
          "name": "stdout",
          "text": [
            "[['future', 'king', 'prince'], ['daughter', 'future', 'princess'], ['son', 'prince'], ['man', 'king'], ['woman', 'queen'], ['princess', 'queen'], ['prince', 'strong', 'boy'], ['princess', 'beautiful', 'girl'], ['princess', 'beautiful', 'woman'], ['prince', 'boy'], ['prince', 'king'], ['boy', 'man'], ['man', 'strong', 'king']]\n"
          ]
        }
      ],
      "source": [
        "stopwords = ['the', 'is', 'will', 'be', 'a', 'only', 'can', 'their', 'now', 'and', 'at', 'it']\n",
        "\n",
        "filtered_data = []\n",
        "for sent in royal_data:\n",
        "    temp = []\n",
        "    for word in sent.split():\n",
        "        if word not in stopwords:\n",
        "            temp.append(word)\n",
        "    filtered_data.append(temp)\n",
        "\n",
        "print(filtered_data)"
      ]
    },
    {
      "cell_type": "markdown",
      "id": "9c060ff9",
      "metadata": {
        "id": "9c060ff9"
      },
      "source": [
        "### Creating bigrams\n"
      ]
    },
    {
      "cell_type": "code",
      "execution_count": null,
      "id": "feb52dc7",
      "metadata": {
        "colab": {
          "base_uri": "https://localhost:8080/"
        },
        "id": "feb52dc7",
        "outputId": "b13b2f5b-45d6-4507-c6a5-b22c1d411947"
      },
      "outputs": [
        {
          "output_type": "stream",
          "name": "stdout",
          "text": [
            "[['future', 'king'], ['king', 'future'], ['future', 'prince'], ['prince', 'future'], ['king', 'prince'], ['prince', 'king'], ['daughter', 'future'], ['future', 'daughter'], ['daughter', 'princess'], ['princess', 'daughter'], ['future', 'princess'], ['princess', 'future'], ['son', 'prince'], ['prince', 'son'], ['man', 'king'], ['king', 'man'], ['woman', 'queen'], ['queen', 'woman'], ['princess', 'queen'], ['queen', 'princess'], ['prince', 'strong'], ['strong', 'prince'], ['prince', 'boy'], ['boy', 'prince'], ['strong', 'boy'], ['boy', 'strong'], ['princess', 'beautiful'], ['beautiful', 'princess'], ['princess', 'girl'], ['girl', 'princess'], ['beautiful', 'girl'], ['girl', 'beautiful'], ['princess', 'beautiful'], ['beautiful', 'princess'], ['princess', 'woman'], ['woman', 'princess'], ['beautiful', 'woman'], ['woman', 'beautiful'], ['prince', 'boy'], ['boy', 'prince'], ['prince', 'king'], ['king', 'prince'], ['boy', 'man'], ['man', 'boy'], ['man', 'strong'], ['strong', 'man'], ['man', 'king'], ['king', 'man'], ['strong', 'king'], ['king', 'strong']]\n"
          ]
        }
      ],
      "source": [
        "bigrams = []\n",
        "for words_list in filtered_data:\n",
        "    for i in range(len(words_list) - 1):\n",
        "        for j in range(i+1, len(words_list)):\n",
        "            bigrams.append([words_list[i], words_list[j]])\n",
        "            bigrams.append([words_list[j], words_list[i]])\n",
        "\n",
        "\n",
        "print(bigrams)"
      ]
    },
    {
      "cell_type": "markdown",
      "id": "a9c73a57",
      "metadata": {
        "id": "a9c73a57"
      },
      "source": [
        "### Getting a list of unique words"
      ]
    },
    {
      "cell_type": "code",
      "execution_count": null,
      "id": "20547a7c",
      "metadata": {
        "colab": {
          "base_uri": "https://localhost:8080/"
        },
        "id": "20547a7c",
        "outputId": "366c1f3d-9d63-44f6-cd70-0e57c78cc2bc"
      },
      "outputs": [
        {
          "output_type": "stream",
          "name": "stdout",
          "text": [
            "['beautiful', 'boy', 'daughter', 'future', 'girl', 'king', 'man', 'prince', 'princess', 'queen', 'son', 'strong', 'woman']\n",
            "Total number of unique words are: 13\n"
          ]
        }
      ],
      "source": [
        "all_words = []\n",
        "for bi in bigrams:\n",
        "    all_words.extend(bi)\n",
        "\n",
        "all_words = list(set(all_words))\n",
        "all_words.sort()\n",
        "\n",
        "print(all_words)\n",
        "print(\"Total number of unique words are:\", len(all_words))"
      ]
    },
    {
      "cell_type": "markdown",
      "id": "2e20adfa",
      "metadata": {
        "id": "2e20adfa"
      },
      "source": [
        "### Creating dictionary of words"
      ]
    },
    {
      "cell_type": "code",
      "execution_count": null,
      "id": "5e8da645",
      "metadata": {
        "colab": {
          "base_uri": "https://localhost:8080/"
        },
        "id": "5e8da645",
        "outputId": "b6fe62d3-8b33-4fb8-f787-3ae8459fdde7"
      },
      "outputs": [
        {
          "output_type": "stream",
          "name": "stdout",
          "text": [
            "{'beautiful': 0, 'boy': 1, 'daughter': 2, 'future': 3, 'girl': 4, 'king': 5, 'man': 6, 'prince': 7, 'princess': 8, 'queen': 9, 'son': 10, 'strong': 11, 'woman': 12}\n"
          ]
        }
      ],
      "source": [
        "words_dict = {}\n",
        "\n",
        "counter = 0\n",
        "for word in all_words:\n",
        "    words_dict[word] = counter\n",
        "    counter += 1\n",
        "\n",
        "print(words_dict)"
      ]
    },
    {
      "cell_type": "markdown",
      "id": "3f911c7d",
      "metadata": {
        "id": "3f911c7d"
      },
      "source": [
        "### Performing one-hot encoding"
      ]
    },
    {
      "cell_type": "code",
      "execution_count": null,
      "id": "7062308d",
      "metadata": {
        "colab": {
          "base_uri": "https://localhost:8080/"
        },
        "id": "7062308d",
        "outputId": "7e7dc843-c5e5-4789-eade-5b270b972792"
      },
      "outputs": [
        {
          "output_type": "stream",
          "name": "stdout",
          "text": [
            "beautiful : [1. 0. 0. 0. 0. 0. 0. 0. 0. 0. 0. 0. 0.]\n",
            "boy : [0. 1. 0. 0. 0. 0. 0. 0. 0. 0. 0. 0. 0.]\n",
            "daughter : [0. 0. 1. 0. 0. 0. 0. 0. 0. 0. 0. 0. 0.]\n",
            "future : [0. 0. 0. 1. 0. 0. 0. 0. 0. 0. 0. 0. 0.]\n",
            "girl : [0. 0. 0. 0. 1. 0. 0. 0. 0. 0. 0. 0. 0.]\n",
            "king : [0. 0. 0. 0. 0. 1. 0. 0. 0. 0. 0. 0. 0.]\n",
            "man : [0. 0. 0. 0. 0. 0. 1. 0. 0. 0. 0. 0. 0.]\n",
            "prince : [0. 0. 0. 0. 0. 0. 0. 1. 0. 0. 0. 0. 0.]\n",
            "princess : [0. 0. 0. 0. 0. 0. 0. 0. 1. 0. 0. 0. 0.]\n",
            "queen : [0. 0. 0. 0. 0. 0. 0. 0. 0. 1. 0. 0. 0.]\n",
            "son : [0. 0. 0. 0. 0. 0. 0. 0. 0. 0. 1. 0. 0.]\n",
            "strong : [0. 0. 0. 0. 0. 0. 0. 0. 0. 0. 0. 1. 0.]\n",
            "woman : [0. 0. 0. 0. 0. 0. 0. 0. 0. 0. 0. 0. 1.]\n"
          ]
        }
      ],
      "source": [
        "import numpy as np\n",
        "\n",
        "onehot_data = np.zeros((len(all_words), len(all_words)))\n",
        "\n",
        "for i in range(len(all_words)):\n",
        "    onehot_data[i][i] = 1\n",
        "\n",
        "onehot_dict = {}\n",
        "counter = 0\n",
        "for word in all_words:\n",
        "    onehot_dict[word] = onehot_data[counter]\n",
        "    counter += 1\n",
        "\n",
        "for word in onehot_dict:\n",
        "    print(word, \":\", onehot_dict[word])\n"
      ]
    },
    {
      "cell_type": "code",
      "source": [
        "onehot_data"
      ],
      "metadata": {
        "colab": {
          "base_uri": "https://localhost:8080/"
        },
        "id": "UcX20MNjlGux",
        "outputId": "c800c0ec-d5e3-45a6-e77b-546214307710"
      },
      "id": "UcX20MNjlGux",
      "execution_count": null,
      "outputs": [
        {
          "output_type": "execute_result",
          "data": {
            "text/plain": [
              "array([[1., 0., 0., 0., 0., 0., 0., 0., 0., 0., 0., 0., 0.],\n",
              "       [0., 1., 0., 0., 0., 0., 0., 0., 0., 0., 0., 0., 0.],\n",
              "       [0., 0., 1., 0., 0., 0., 0., 0., 0., 0., 0., 0., 0.],\n",
              "       [0., 0., 0., 1., 0., 0., 0., 0., 0., 0., 0., 0., 0.],\n",
              "       [0., 0., 0., 0., 1., 0., 0., 0., 0., 0., 0., 0., 0.],\n",
              "       [0., 0., 0., 0., 0., 1., 0., 0., 0., 0., 0., 0., 0.],\n",
              "       [0., 0., 0., 0., 0., 0., 1., 0., 0., 0., 0., 0., 0.],\n",
              "       [0., 0., 0., 0., 0., 0., 0., 1., 0., 0., 0., 0., 0.],\n",
              "       [0., 0., 0., 0., 0., 0., 0., 0., 1., 0., 0., 0., 0.],\n",
              "       [0., 0., 0., 0., 0., 0., 0., 0., 0., 1., 0., 0., 0.],\n",
              "       [0., 0., 0., 0., 0., 0., 0., 0., 0., 0., 1., 0., 0.],\n",
              "       [0., 0., 0., 0., 0., 0., 0., 0., 0., 0., 0., 1., 0.],\n",
              "       [0., 0., 0., 0., 0., 0., 0., 0., 0., 0., 0., 0., 1.]])"
            ]
          },
          "metadata": {},
          "execution_count": 8
        }
      ]
    },
    {
      "cell_type": "code",
      "execution_count": null,
      "id": "0a6fe9e5",
      "metadata": {
        "id": "0a6fe9e5"
      },
      "outputs": [],
      "source": [
        "X = []\n",
        "Y = []\n",
        "\n",
        "for bi in bigrams:\n",
        "    X.append(onehot_dict[bi[0]])\n",
        "    Y.append(onehot_dict[bi[1]])\n",
        "\n",
        "X = np.array(X)\n",
        "Y = np.array(Y)"
      ]
    },
    {
      "cell_type": "code",
      "source": [
        "len(X), len(Y)"
      ],
      "metadata": {
        "colab": {
          "base_uri": "https://localhost:8080/"
        },
        "id": "lXm1PTZEleC0",
        "outputId": "45a65119-6e3d-448c-b185-f934b3139d9c"
      },
      "id": "lXm1PTZEleC0",
      "execution_count": null,
      "outputs": [
        {
          "output_type": "execute_result",
          "data": {
            "text/plain": [
              "(50, 50)"
            ]
          },
          "metadata": {},
          "execution_count": 10
        }
      ]
    },
    {
      "cell_type": "markdown",
      "id": "d218441d",
      "metadata": {
        "id": "d218441d"
      },
      "source": [
        "### Model"
      ]
    },
    {
      "cell_type": "code",
      "execution_count": null,
      "id": "91f1fa31",
      "metadata": {
        "id": "91f1fa31"
      },
      "outputs": [],
      "source": [
        "from keras.models import Sequential\n",
        "from keras.layers import Dense\n",
        "\n",
        "embed_size = 2\n",
        "\n",
        "model = Sequential([\n",
        "    Dense(embed_size, activation='linear'),\n",
        "    Dense(Y.shape[1], activation = 'softmax')\n",
        "])\n",
        "\n",
        "model.compile(loss = 'categorical_crossentropy', optimizer = 'adam')\n",
        "\n"
      ]
    },
    {
      "cell_type": "code",
      "source": [
        "import numpy as np\n",
        "import pandas as pd\n",
        "from tensorflow.keras.models import Sequential\n",
        "from tensorflow.keras.layers import Dense\n",
        "from tensorflow.keras.callbacks import Callback\n",
        "\n",
        "class CustomWeightsCallback(Callback):\n",
        "    def __init__(self):\n",
        "        super(CustomWeightsCallback, self).__init__()\n",
        "        self.weights_history = []\n",
        "        self.final_df = pd.DataFrame()\n",
        "\n",
        "\n",
        "    def create_list(self, row):\n",
        "        return [row[0], row[1]]\n",
        "\n",
        "    def on_epoch_end(self, epoch, logs=None):\n",
        "        # Extract weights\n",
        "        weights = self.model.get_weights()[0]\n",
        "\n",
        "        self.current_df = pd.DataFrame(weights)\n",
        "\n",
        "        self.current_df['C'] = self.current_df.apply(self.create_list, axis=1)\n",
        "        self.appended_weights = self.current_df['C'].transpose()\n",
        "        self.t_weights = pd.DataFrame([self.appended_weights])\n",
        "        self.final_df = pd.concat([self.final_df, self.t_weights])\n",
        "\n",
        "# Callback instance\n",
        "weights_callback = CustomWeightsCallback()\n",
        "\n",
        "model.fit(X, Y, epochs = 1700, batch_size = 256, callbacks=[weights_callback], verbose = False)"
      ],
      "metadata": {
        "colab": {
          "base_uri": "https://localhost:8080/"
        },
        "id": "cMVjoJdxp9BJ",
        "outputId": "a9fd6209-81cd-48b2-eac9-b2caa4084b1b"
      },
      "id": "cMVjoJdxp9BJ",
      "execution_count": null,
      "outputs": [
        {
          "output_type": "execute_result",
          "data": {
            "text/plain": [
              "<keras.src.callbacks.History at 0x7b51406db2b0>"
            ]
          },
          "metadata": {},
          "execution_count": 14
        }
      ]
    },
    {
      "cell_type": "code",
      "source": [
        "weight_matrices = weights_callback.final_df\n",
        "weight_matrices.columns = all_words\n",
        "weight_matrices.reset_index(drop='index')"
      ],
      "metadata": {
        "colab": {
          "base_uri": "https://localhost:8080/",
          "height": 617
        },
        "id": "QmVy3OnaGWx2",
        "outputId": "a95e529a-960c-4d6f-9324-ec0ce91e1fa4"
      },
      "id": "QmVy3OnaGWx2",
      "execution_count": null,
      "outputs": [
        {
          "output_type": "execute_result",
          "data": {
            "text/plain": [
              "                       beautiful                        boy  \\\n",
              "0     [-0.33410156, -0.29804817]  [0.029813694, 0.52033526]   \n",
              "1      [-0.3331029, -0.29904813]     [0.0308118, 0.5213351]   \n",
              "2     [-0.33210537, -0.30004817]    [0.03180849, 0.5223351]   \n",
              "3      [-0.3311095, -0.30104834]  [0.032803014, 0.52333516]   \n",
              "4     [-0.33011585, -0.30204868]    [0.03379464, 0.5243353]   \n",
              "...                          ...                        ...   \n",
              "1695    [-2.0938277, -1.3951871]     [1.5498003, 1.5755867]   \n",
              "1696    [-2.0944238, -1.3956027]     [1.5502241, 1.5756687]   \n",
              "1697    [-2.0950193, -1.3960183]     [1.5506474, 1.5757504]   \n",
              "1698     [-2.0956147, -1.396434]     [1.5510703, 1.5758318]   \n",
              "1699    [-2.0962098, -1.3968496]     [1.5514928, 1.5759128]   \n",
              "\n",
              "                       daughter                      future  \\\n",
              "0     [0.19513817, -0.59449625]    [0.07314723, 0.17076826]   \n",
              "1      [0.19413874, -0.5954961]    [0.07214853, 0.16976859]   \n",
              "2      [0.1931391, -0.59649616]    [0.07114925, 0.16876888]   \n",
              "3      [0.1921393, -0.59749645]    [0.07014941, 0.16776918]   \n",
              "4     [0.19113931, -0.59849703]     [0.06914893, 0.1667695]   \n",
              "...                         ...                         ...   \n",
              "1695    [-0.519241, -0.9578312]  [-0.17647949, -0.24009769]   \n",
              "1696   [-0.5191782, -0.9575937]  [-0.17648418, -0.23998007]   \n",
              "1697   [-0.5191158, -0.9573563]  [-0.17648919, -0.23986201]   \n",
              "1698    [-0.5190537, -0.957119]  [-0.17649451, -0.23974352]   \n",
              "1699  [-0.51899195, -0.9568818]  [-0.17650014, -0.23962457]   \n",
              "\n",
              "                             girl                      king  \\\n",
              "0     [-0.105992034, -0.16919951]  [-0.5565987, 0.49595046]   \n",
              "1     [-0.104992434, -0.17019936]  [-0.5556012, 0.49695036]   \n",
              "2      [-0.10399305, -0.17119926]  [-0.5546057, 0.49795026]   \n",
              "3      [-0.10299403, -0.17219917]  [-0.5536134, 0.49895012]   \n",
              "4     [-0.101995476, -0.17319912]    [-0.55262536, 0.49995]   \n",
              "...                           ...                       ...   \n",
              "1695     [-1.4227684, -0.5953712]     [0.906491, 1.3777782]   \n",
              "1696    [-1.4232994, -0.59476763]   [0.90682817, 1.3776032]   \n",
              "1697    [-1.4238304, -0.59416336]    [0.9071654, 1.3774278]   \n",
              "1698    [-1.4243611, -0.59355843]    [0.9075027, 1.3772521]   \n",
              "1699     [-1.4248917, -0.5929528]    [0.9078401, 1.3770759]   \n",
              "\n",
              "                             man                      prince  \\\n",
              "0     [-0.55298764, -0.25039274]  [0.054603405, -0.59509057]   \n",
              "1     [-0.55198824, -0.24939312]  [0.053603977, -0.59409106]   \n",
              "2     [-0.55098903, -0.24839382]    [0.052604847, -0.593092]   \n",
              "3        [-0.5499901, -0.247395]   [0.051606197, -0.5920937]   \n",
              "4       [-0.5489916, -0.2463968]  [0.050608184, -0.59109634]   \n",
              "...                          ...                         ...   \n",
              "1695      [1.3537425, -1.130951]     [1.2732826, -1.3208138]   \n",
              "1696     [1.3543113, -1.1310047]      [1.2733066, -1.320998]   \n",
              "1697     [1.3548799, -1.1310576]     [1.2733305, -1.3211826]   \n",
              "1698      [1.355448, -1.1311097]     [1.2733543, -1.3213676]   \n",
              "1699     [1.3560158, -1.1311611]     [1.2733781, -1.3215531]   \n",
              "\n",
              "                       princess                       queen  \\\n",
              "0      [-0.51904094, 0.5354389]  [-0.57515246, -0.51292306]   \n",
              "1       [-0.5180413, 0.5344393]    [-0.57415277, -0.513922]   \n",
              "2       [-0.5170419, 0.5334399]   [-0.5731533, -0.51492256]   \n",
              "3     [-0.51604295, 0.53244066]  [-0.57215416, -0.51592517]   \n",
              "4       [-0.5150445, 0.5314418]    [-0.5711555, -0.5169302]   \n",
              "...                         ...                         ...   \n",
              "1695    [-1.6982522, 0.5436075]    [-1.4951415, -1.8415309]   \n",
              "1696   [-1.6983159, 0.54315275]    [-1.4956589, -1.8421835]   \n",
              "1697      [-1.698379, 0.542698]     [-1.496176, -1.8428369]   \n",
              "1698   [-1.6984419, 0.54224336]    [-1.4966929, -1.8434911]   \n",
              "1699   [-1.6985042, 0.54178876]    [-1.4972095, -1.8441461]   \n",
              "\n",
              "                            son                     strong  \\\n",
              "0      [-0.53789526, 0.6114983]   [0.5587303, -0.41652194]   \n",
              "1       [-0.5369086, 0.6124979]    [0.5577311, -0.4155221]   \n",
              "2     [-0.53593045, 0.61349773]   [0.5567321, -0.41452226]   \n",
              "3       [-0.5349669, 0.6144977]  [0.55573356, -0.41352245]   \n",
              "4      [-0.53402513, 0.6154979]   [0.5547356, -0.41252267]   \n",
              "...                         ...                        ...   \n",
              "1695      [0.6416545, 2.084847]    [1.9420106, 0.08106314]   \n",
              "1696    [0.64148664, 2.0854855]     [1.9425671, 0.0812098]   \n",
              "1697      [0.6413182, 2.086124]    [1.9431236, 0.08135699]   \n",
              "1698     [0.6411491, 2.0867624]     [1.94368, 0.081504695]   \n",
              "1699     [0.64097935, 2.087401]    [1.9442365, 0.08165293]   \n",
              "\n",
              "                         woman  \n",
              "0     [-0.3470432, 0.40552112]  \n",
              "1      [-0.3460436, 0.4045214]  \n",
              "2      [-0.3450443, 0.4035217]  \n",
              "3     [-0.3440455, 0.40252203]  \n",
              "4     [-0.3430473, 0.40152243]  \n",
              "...                        ...  \n",
              "1695  [-1.8334262, 0.22828978]  \n",
              "1696   [-1.8339992, 0.2288916]  \n",
              "1697  [-1.8345718, 0.22949354]  \n",
              "1698  [-1.8351443, 0.23009562]  \n",
              "1699  [-1.8357166, 0.23069784]  \n",
              "\n",
              "[1700 rows x 13 columns]"
            ],
            "text/html": [
              "\n",
              "  <div id=\"df-46a8907d-da4b-4490-b366-77549bffc61e\" class=\"colab-df-container\">\n",
              "    <div>\n",
              "<style scoped>\n",
              "    .dataframe tbody tr th:only-of-type {\n",
              "        vertical-align: middle;\n",
              "    }\n",
              "\n",
              "    .dataframe tbody tr th {\n",
              "        vertical-align: top;\n",
              "    }\n",
              "\n",
              "    .dataframe thead th {\n",
              "        text-align: right;\n",
              "    }\n",
              "</style>\n",
              "<table border=\"1\" class=\"dataframe\">\n",
              "  <thead>\n",
              "    <tr style=\"text-align: right;\">\n",
              "      <th></th>\n",
              "      <th>beautiful</th>\n",
              "      <th>boy</th>\n",
              "      <th>daughter</th>\n",
              "      <th>future</th>\n",
              "      <th>girl</th>\n",
              "      <th>king</th>\n",
              "      <th>man</th>\n",
              "      <th>prince</th>\n",
              "      <th>princess</th>\n",
              "      <th>queen</th>\n",
              "      <th>son</th>\n",
              "      <th>strong</th>\n",
              "      <th>woman</th>\n",
              "    </tr>\n",
              "  </thead>\n",
              "  <tbody>\n",
              "    <tr>\n",
              "      <th>0</th>\n",
              "      <td>[-0.33410156, -0.29804817]</td>\n",
              "      <td>[0.029813694, 0.52033526]</td>\n",
              "      <td>[0.19513817, -0.59449625]</td>\n",
              "      <td>[0.07314723, 0.17076826]</td>\n",
              "      <td>[-0.105992034, -0.16919951]</td>\n",
              "      <td>[-0.5565987, 0.49595046]</td>\n",
              "      <td>[-0.55298764, -0.25039274]</td>\n",
              "      <td>[0.054603405, -0.59509057]</td>\n",
              "      <td>[-0.51904094, 0.5354389]</td>\n",
              "      <td>[-0.57515246, -0.51292306]</td>\n",
              "      <td>[-0.53789526, 0.6114983]</td>\n",
              "      <td>[0.5587303, -0.41652194]</td>\n",
              "      <td>[-0.3470432, 0.40552112]</td>\n",
              "    </tr>\n",
              "    <tr>\n",
              "      <th>1</th>\n",
              "      <td>[-0.3331029, -0.29904813]</td>\n",
              "      <td>[0.0308118, 0.5213351]</td>\n",
              "      <td>[0.19413874, -0.5954961]</td>\n",
              "      <td>[0.07214853, 0.16976859]</td>\n",
              "      <td>[-0.104992434, -0.17019936]</td>\n",
              "      <td>[-0.5556012, 0.49695036]</td>\n",
              "      <td>[-0.55198824, -0.24939312]</td>\n",
              "      <td>[0.053603977, -0.59409106]</td>\n",
              "      <td>[-0.5180413, 0.5344393]</td>\n",
              "      <td>[-0.57415277, -0.513922]</td>\n",
              "      <td>[-0.5369086, 0.6124979]</td>\n",
              "      <td>[0.5577311, -0.4155221]</td>\n",
              "      <td>[-0.3460436, 0.4045214]</td>\n",
              "    </tr>\n",
              "    <tr>\n",
              "      <th>2</th>\n",
              "      <td>[-0.33210537, -0.30004817]</td>\n",
              "      <td>[0.03180849, 0.5223351]</td>\n",
              "      <td>[0.1931391, -0.59649616]</td>\n",
              "      <td>[0.07114925, 0.16876888]</td>\n",
              "      <td>[-0.10399305, -0.17119926]</td>\n",
              "      <td>[-0.5546057, 0.49795026]</td>\n",
              "      <td>[-0.55098903, -0.24839382]</td>\n",
              "      <td>[0.052604847, -0.593092]</td>\n",
              "      <td>[-0.5170419, 0.5334399]</td>\n",
              "      <td>[-0.5731533, -0.51492256]</td>\n",
              "      <td>[-0.53593045, 0.61349773]</td>\n",
              "      <td>[0.5567321, -0.41452226]</td>\n",
              "      <td>[-0.3450443, 0.4035217]</td>\n",
              "    </tr>\n",
              "    <tr>\n",
              "      <th>3</th>\n",
              "      <td>[-0.3311095, -0.30104834]</td>\n",
              "      <td>[0.032803014, 0.52333516]</td>\n",
              "      <td>[0.1921393, -0.59749645]</td>\n",
              "      <td>[0.07014941, 0.16776918]</td>\n",
              "      <td>[-0.10299403, -0.17219917]</td>\n",
              "      <td>[-0.5536134, 0.49895012]</td>\n",
              "      <td>[-0.5499901, -0.247395]</td>\n",
              "      <td>[0.051606197, -0.5920937]</td>\n",
              "      <td>[-0.51604295, 0.53244066]</td>\n",
              "      <td>[-0.57215416, -0.51592517]</td>\n",
              "      <td>[-0.5349669, 0.6144977]</td>\n",
              "      <td>[0.55573356, -0.41352245]</td>\n",
              "      <td>[-0.3440455, 0.40252203]</td>\n",
              "    </tr>\n",
              "    <tr>\n",
              "      <th>4</th>\n",
              "      <td>[-0.33011585, -0.30204868]</td>\n",
              "      <td>[0.03379464, 0.5243353]</td>\n",
              "      <td>[0.19113931, -0.59849703]</td>\n",
              "      <td>[0.06914893, 0.1667695]</td>\n",
              "      <td>[-0.101995476, -0.17319912]</td>\n",
              "      <td>[-0.55262536, 0.49995]</td>\n",
              "      <td>[-0.5489916, -0.2463968]</td>\n",
              "      <td>[0.050608184, -0.59109634]</td>\n",
              "      <td>[-0.5150445, 0.5314418]</td>\n",
              "      <td>[-0.5711555, -0.5169302]</td>\n",
              "      <td>[-0.53402513, 0.6154979]</td>\n",
              "      <td>[0.5547356, -0.41252267]</td>\n",
              "      <td>[-0.3430473, 0.40152243]</td>\n",
              "    </tr>\n",
              "    <tr>\n",
              "      <th>...</th>\n",
              "      <td>...</td>\n",
              "      <td>...</td>\n",
              "      <td>...</td>\n",
              "      <td>...</td>\n",
              "      <td>...</td>\n",
              "      <td>...</td>\n",
              "      <td>...</td>\n",
              "      <td>...</td>\n",
              "      <td>...</td>\n",
              "      <td>...</td>\n",
              "      <td>...</td>\n",
              "      <td>...</td>\n",
              "      <td>...</td>\n",
              "    </tr>\n",
              "    <tr>\n",
              "      <th>1695</th>\n",
              "      <td>[-2.0938277, -1.3951871]</td>\n",
              "      <td>[1.5498003, 1.5755867]</td>\n",
              "      <td>[-0.519241, -0.9578312]</td>\n",
              "      <td>[-0.17647949, -0.24009769]</td>\n",
              "      <td>[-1.4227684, -0.5953712]</td>\n",
              "      <td>[0.906491, 1.3777782]</td>\n",
              "      <td>[1.3537425, -1.130951]</td>\n",
              "      <td>[1.2732826, -1.3208138]</td>\n",
              "      <td>[-1.6982522, 0.5436075]</td>\n",
              "      <td>[-1.4951415, -1.8415309]</td>\n",
              "      <td>[0.6416545, 2.084847]</td>\n",
              "      <td>[1.9420106, 0.08106314]</td>\n",
              "      <td>[-1.8334262, 0.22828978]</td>\n",
              "    </tr>\n",
              "    <tr>\n",
              "      <th>1696</th>\n",
              "      <td>[-2.0944238, -1.3956027]</td>\n",
              "      <td>[1.5502241, 1.5756687]</td>\n",
              "      <td>[-0.5191782, -0.9575937]</td>\n",
              "      <td>[-0.17648418, -0.23998007]</td>\n",
              "      <td>[-1.4232994, -0.59476763]</td>\n",
              "      <td>[0.90682817, 1.3776032]</td>\n",
              "      <td>[1.3543113, -1.1310047]</td>\n",
              "      <td>[1.2733066, -1.320998]</td>\n",
              "      <td>[-1.6983159, 0.54315275]</td>\n",
              "      <td>[-1.4956589, -1.8421835]</td>\n",
              "      <td>[0.64148664, 2.0854855]</td>\n",
              "      <td>[1.9425671, 0.0812098]</td>\n",
              "      <td>[-1.8339992, 0.2288916]</td>\n",
              "    </tr>\n",
              "    <tr>\n",
              "      <th>1697</th>\n",
              "      <td>[-2.0950193, -1.3960183]</td>\n",
              "      <td>[1.5506474, 1.5757504]</td>\n",
              "      <td>[-0.5191158, -0.9573563]</td>\n",
              "      <td>[-0.17648919, -0.23986201]</td>\n",
              "      <td>[-1.4238304, -0.59416336]</td>\n",
              "      <td>[0.9071654, 1.3774278]</td>\n",
              "      <td>[1.3548799, -1.1310576]</td>\n",
              "      <td>[1.2733305, -1.3211826]</td>\n",
              "      <td>[-1.698379, 0.542698]</td>\n",
              "      <td>[-1.496176, -1.8428369]</td>\n",
              "      <td>[0.6413182, 2.086124]</td>\n",
              "      <td>[1.9431236, 0.08135699]</td>\n",
              "      <td>[-1.8345718, 0.22949354]</td>\n",
              "    </tr>\n",
              "    <tr>\n",
              "      <th>1698</th>\n",
              "      <td>[-2.0956147, -1.396434]</td>\n",
              "      <td>[1.5510703, 1.5758318]</td>\n",
              "      <td>[-0.5190537, -0.957119]</td>\n",
              "      <td>[-0.17649451, -0.23974352]</td>\n",
              "      <td>[-1.4243611, -0.59355843]</td>\n",
              "      <td>[0.9075027, 1.3772521]</td>\n",
              "      <td>[1.355448, -1.1311097]</td>\n",
              "      <td>[1.2733543, -1.3213676]</td>\n",
              "      <td>[-1.6984419, 0.54224336]</td>\n",
              "      <td>[-1.4966929, -1.8434911]</td>\n",
              "      <td>[0.6411491, 2.0867624]</td>\n",
              "      <td>[1.94368, 0.081504695]</td>\n",
              "      <td>[-1.8351443, 0.23009562]</td>\n",
              "    </tr>\n",
              "    <tr>\n",
              "      <th>1699</th>\n",
              "      <td>[-2.0962098, -1.3968496]</td>\n",
              "      <td>[1.5514928, 1.5759128]</td>\n",
              "      <td>[-0.51899195, -0.9568818]</td>\n",
              "      <td>[-0.17650014, -0.23962457]</td>\n",
              "      <td>[-1.4248917, -0.5929528]</td>\n",
              "      <td>[0.9078401, 1.3770759]</td>\n",
              "      <td>[1.3560158, -1.1311611]</td>\n",
              "      <td>[1.2733781, -1.3215531]</td>\n",
              "      <td>[-1.6985042, 0.54178876]</td>\n",
              "      <td>[-1.4972095, -1.8441461]</td>\n",
              "      <td>[0.64097935, 2.087401]</td>\n",
              "      <td>[1.9442365, 0.08165293]</td>\n",
              "      <td>[-1.8357166, 0.23069784]</td>\n",
              "    </tr>\n",
              "  </tbody>\n",
              "</table>\n",
              "<p>1700 rows × 13 columns</p>\n",
              "</div>\n",
              "    <div class=\"colab-df-buttons\">\n",
              "\n",
              "  <div class=\"colab-df-container\">\n",
              "    <button class=\"colab-df-convert\" onclick=\"convertToInteractive('df-46a8907d-da4b-4490-b366-77549bffc61e')\"\n",
              "            title=\"Convert this dataframe to an interactive table.\"\n",
              "            style=\"display:none;\">\n",
              "\n",
              "  <svg xmlns=\"http://www.w3.org/2000/svg\" height=\"24px\" viewBox=\"0 -960 960 960\">\n",
              "    <path d=\"M120-120v-720h720v720H120Zm60-500h600v-160H180v160Zm220 220h160v-160H400v160Zm0 220h160v-160H400v160ZM180-400h160v-160H180v160Zm440 0h160v-160H620v160ZM180-180h160v-160H180v160Zm440 0h160v-160H620v160Z\"/>\n",
              "  </svg>\n",
              "    </button>\n",
              "\n",
              "  <style>\n",
              "    .colab-df-container {\n",
              "      display:flex;\n",
              "      gap: 12px;\n",
              "    }\n",
              "\n",
              "    .colab-df-convert {\n",
              "      background-color: #E8F0FE;\n",
              "      border: none;\n",
              "      border-radius: 50%;\n",
              "      cursor: pointer;\n",
              "      display: none;\n",
              "      fill: #1967D2;\n",
              "      height: 32px;\n",
              "      padding: 0 0 0 0;\n",
              "      width: 32px;\n",
              "    }\n",
              "\n",
              "    .colab-df-convert:hover {\n",
              "      background-color: #E2EBFA;\n",
              "      box-shadow: 0px 1px 2px rgba(60, 64, 67, 0.3), 0px 1px 3px 1px rgba(60, 64, 67, 0.15);\n",
              "      fill: #174EA6;\n",
              "    }\n",
              "\n",
              "    .colab-df-buttons div {\n",
              "      margin-bottom: 4px;\n",
              "    }\n",
              "\n",
              "    [theme=dark] .colab-df-convert {\n",
              "      background-color: #3B4455;\n",
              "      fill: #D2E3FC;\n",
              "    }\n",
              "\n",
              "    [theme=dark] .colab-df-convert:hover {\n",
              "      background-color: #434B5C;\n",
              "      box-shadow: 0px 1px 3px 1px rgba(0, 0, 0, 0.15);\n",
              "      filter: drop-shadow(0px 1px 2px rgba(0, 0, 0, 0.3));\n",
              "      fill: #FFFFFF;\n",
              "    }\n",
              "  </style>\n",
              "\n",
              "    <script>\n",
              "      const buttonEl =\n",
              "        document.querySelector('#df-46a8907d-da4b-4490-b366-77549bffc61e button.colab-df-convert');\n",
              "      buttonEl.style.display =\n",
              "        google.colab.kernel.accessAllowed ? 'block' : 'none';\n",
              "\n",
              "      async function convertToInteractive(key) {\n",
              "        const element = document.querySelector('#df-46a8907d-da4b-4490-b366-77549bffc61e');\n",
              "        const dataTable =\n",
              "          await google.colab.kernel.invokeFunction('convertToInteractive',\n",
              "                                                    [key], {});\n",
              "        if (!dataTable) return;\n",
              "\n",
              "        const docLinkHtml = 'Like what you see? Visit the ' +\n",
              "          '<a target=\"_blank\" href=https://colab.research.google.com/notebooks/data_table.ipynb>data table notebook</a>'\n",
              "          + ' to learn more about interactive tables.';\n",
              "        element.innerHTML = '';\n",
              "        dataTable['output_type'] = 'display_data';\n",
              "        await google.colab.output.renderOutput(dataTable, element);\n",
              "        const docLink = document.createElement('div');\n",
              "        docLink.innerHTML = docLinkHtml;\n",
              "        element.appendChild(docLink);\n",
              "      }\n",
              "    </script>\n",
              "  </div>\n",
              "\n",
              "\n",
              "<div id=\"df-853d23a4-0cee-462e-8de6-7ccf0716cb51\">\n",
              "  <button class=\"colab-df-quickchart\" onclick=\"quickchart('df-853d23a4-0cee-462e-8de6-7ccf0716cb51')\"\n",
              "            title=\"Suggest charts\"\n",
              "            style=\"display:none;\">\n",
              "\n",
              "<svg xmlns=\"http://www.w3.org/2000/svg\" height=\"24px\"viewBox=\"0 0 24 24\"\n",
              "     width=\"24px\">\n",
              "    <g>\n",
              "        <path d=\"M19 3H5c-1.1 0-2 .9-2 2v14c0 1.1.9 2 2 2h14c1.1 0 2-.9 2-2V5c0-1.1-.9-2-2-2zM9 17H7v-7h2v7zm4 0h-2V7h2v10zm4 0h-2v-4h2v4z\"/>\n",
              "    </g>\n",
              "</svg>\n",
              "  </button>\n",
              "\n",
              "<style>\n",
              "  .colab-df-quickchart {\n",
              "      --bg-color: #E8F0FE;\n",
              "      --fill-color: #1967D2;\n",
              "      --hover-bg-color: #E2EBFA;\n",
              "      --hover-fill-color: #174EA6;\n",
              "      --disabled-fill-color: #AAA;\n",
              "      --disabled-bg-color: #DDD;\n",
              "  }\n",
              "\n",
              "  [theme=dark] .colab-df-quickchart {\n",
              "      --bg-color: #3B4455;\n",
              "      --fill-color: #D2E3FC;\n",
              "      --hover-bg-color: #434B5C;\n",
              "      --hover-fill-color: #FFFFFF;\n",
              "      --disabled-bg-color: #3B4455;\n",
              "      --disabled-fill-color: #666;\n",
              "  }\n",
              "\n",
              "  .colab-df-quickchart {\n",
              "    background-color: var(--bg-color);\n",
              "    border: none;\n",
              "    border-radius: 50%;\n",
              "    cursor: pointer;\n",
              "    display: none;\n",
              "    fill: var(--fill-color);\n",
              "    height: 32px;\n",
              "    padding: 0;\n",
              "    width: 32px;\n",
              "  }\n",
              "\n",
              "  .colab-df-quickchart:hover {\n",
              "    background-color: var(--hover-bg-color);\n",
              "    box-shadow: 0 1px 2px rgba(60, 64, 67, 0.3), 0 1px 3px 1px rgba(60, 64, 67, 0.15);\n",
              "    fill: var(--button-hover-fill-color);\n",
              "  }\n",
              "\n",
              "  .colab-df-quickchart-complete:disabled,\n",
              "  .colab-df-quickchart-complete:disabled:hover {\n",
              "    background-color: var(--disabled-bg-color);\n",
              "    fill: var(--disabled-fill-color);\n",
              "    box-shadow: none;\n",
              "  }\n",
              "\n",
              "  .colab-df-spinner {\n",
              "    border: 2px solid var(--fill-color);\n",
              "    border-color: transparent;\n",
              "    border-bottom-color: var(--fill-color);\n",
              "    animation:\n",
              "      spin 1s steps(1) infinite;\n",
              "  }\n",
              "\n",
              "  @keyframes spin {\n",
              "    0% {\n",
              "      border-color: transparent;\n",
              "      border-bottom-color: var(--fill-color);\n",
              "      border-left-color: var(--fill-color);\n",
              "    }\n",
              "    20% {\n",
              "      border-color: transparent;\n",
              "      border-left-color: var(--fill-color);\n",
              "      border-top-color: var(--fill-color);\n",
              "    }\n",
              "    30% {\n",
              "      border-color: transparent;\n",
              "      border-left-color: var(--fill-color);\n",
              "      border-top-color: var(--fill-color);\n",
              "      border-right-color: var(--fill-color);\n",
              "    }\n",
              "    40% {\n",
              "      border-color: transparent;\n",
              "      border-right-color: var(--fill-color);\n",
              "      border-top-color: var(--fill-color);\n",
              "    }\n",
              "    60% {\n",
              "      border-color: transparent;\n",
              "      border-right-color: var(--fill-color);\n",
              "    }\n",
              "    80% {\n",
              "      border-color: transparent;\n",
              "      border-right-color: var(--fill-color);\n",
              "      border-bottom-color: var(--fill-color);\n",
              "    }\n",
              "    90% {\n",
              "      border-color: transparent;\n",
              "      border-bottom-color: var(--fill-color);\n",
              "    }\n",
              "  }\n",
              "</style>\n",
              "\n",
              "  <script>\n",
              "    async function quickchart(key) {\n",
              "      const quickchartButtonEl =\n",
              "        document.querySelector('#' + key + ' button');\n",
              "      quickchartButtonEl.disabled = true;  // To prevent multiple clicks.\n",
              "      quickchartButtonEl.classList.add('colab-df-spinner');\n",
              "      try {\n",
              "        const charts = await google.colab.kernel.invokeFunction(\n",
              "            'suggestCharts', [key], {});\n",
              "      } catch (error) {\n",
              "        console.error('Error during call to suggestCharts:', error);\n",
              "      }\n",
              "      quickchartButtonEl.classList.remove('colab-df-spinner');\n",
              "      quickchartButtonEl.classList.add('colab-df-quickchart-complete');\n",
              "    }\n",
              "    (() => {\n",
              "      let quickchartButtonEl =\n",
              "        document.querySelector('#df-853d23a4-0cee-462e-8de6-7ccf0716cb51 button');\n",
              "      quickchartButtonEl.style.display =\n",
              "        google.colab.kernel.accessAllowed ? 'block' : 'none';\n",
              "    })();\n",
              "  </script>\n",
              "</div>\n",
              "\n",
              "    </div>\n",
              "  </div>\n"
            ],
            "application/vnd.google.colaboratory.intrinsic+json": {
              "type": "dataframe",
              "summary": "{\n  \"name\": \"weight_matrices\",\n  \"rows\": 1700,\n  \"fields\": [\n    {\n      \"column\": \"beautiful\",\n      \"properties\": {\n        \"dtype\": \"object\",\n        \"semantic_type\": \"\",\n        \"description\": \"\"\n      }\n    },\n    {\n      \"column\": \"boy\",\n      \"properties\": {\n        \"dtype\": \"object\",\n        \"semantic_type\": \"\",\n        \"description\": \"\"\n      }\n    },\n    {\n      \"column\": \"daughter\",\n      \"properties\": {\n        \"dtype\": \"object\",\n        \"semantic_type\": \"\",\n        \"description\": \"\"\n      }\n    },\n    {\n      \"column\": \"future\",\n      \"properties\": {\n        \"dtype\": \"object\",\n        \"semantic_type\": \"\",\n        \"description\": \"\"\n      }\n    },\n    {\n      \"column\": \"girl\",\n      \"properties\": {\n        \"dtype\": \"object\",\n        \"semantic_type\": \"\",\n        \"description\": \"\"\n      }\n    },\n    {\n      \"column\": \"king\",\n      \"properties\": {\n        \"dtype\": \"object\",\n        \"semantic_type\": \"\",\n        \"description\": \"\"\n      }\n    },\n    {\n      \"column\": \"man\",\n      \"properties\": {\n        \"dtype\": \"object\",\n        \"semantic_type\": \"\",\n        \"description\": \"\"\n      }\n    },\n    {\n      \"column\": \"prince\",\n      \"properties\": {\n        \"dtype\": \"object\",\n        \"semantic_type\": \"\",\n        \"description\": \"\"\n      }\n    },\n    {\n      \"column\": \"princess\",\n      \"properties\": {\n        \"dtype\": \"object\",\n        \"semantic_type\": \"\",\n        \"description\": \"\"\n      }\n    },\n    {\n      \"column\": \"queen\",\n      \"properties\": {\n        \"dtype\": \"object\",\n        \"semantic_type\": \"\",\n        \"description\": \"\"\n      }\n    },\n    {\n      \"column\": \"son\",\n      \"properties\": {\n        \"dtype\": \"object\",\n        \"semantic_type\": \"\",\n        \"description\": \"\"\n      }\n    },\n    {\n      \"column\": \"strong\",\n      \"properties\": {\n        \"dtype\": \"object\",\n        \"semantic_type\": \"\",\n        \"description\": \"\"\n      }\n    },\n    {\n      \"column\": \"woman\",\n      \"properties\": {\n        \"dtype\": \"object\",\n        \"semantic_type\": \"\",\n        \"description\": \"\"\n      }\n    }\n  ]\n}"
            }
          },
          "metadata": {},
          "execution_count": 15
        }
      ]
    },
    {
      "cell_type": "code",
      "source": [
        "import shutil\n",
        "import os\n",
        "\n",
        "shutil.rmtree('/content/plots')\n",
        "os.makedirs('/content/plots')"
      ],
      "metadata": {
        "id": "e_eK7bVflLeS"
      },
      "id": "e_eK7bVflLeS",
      "execution_count": null,
      "outputs": []
    },
    {
      "cell_type": "code",
      "execution_count": null,
      "id": "95cf5e2d",
      "metadata": {
        "colab": {
          "base_uri": "https://localhost:8080/",
          "height": 52
        },
        "id": "95cf5e2d",
        "outputId": "409fb4ec-7e1a-407a-e2bc-0c8ed85b994d"
      },
      "outputs": [
        {
          "output_type": "stream",
          "name": "stderr",
          "text": [
            "100%|██████████| 1700/1700 [09:22<00:00,  3.02it/s]\n"
          ]
        },
        {
          "output_type": "display_data",
          "data": {
            "text/plain": [
              "<Figure size 640x480 with 0 Axes>"
            ]
          },
          "metadata": {}
        }
      ],
      "source": [
        "import matplotlib.pyplot as plt\n",
        "from tqdm import tqdm\n",
        "# plt.figure(figsize = (10, 10))\n",
        "for frame in tqdm(range(len(weight_matrices))):\n",
        "  word_embeddings = weight_matrices.iloc[frame].to_dict()\n",
        "  for word in list(words_dict.keys()):\n",
        "      coord = word_embeddings.get(word)\n",
        "      plt.scatter(coord[0], coord[1])\n",
        "      plt.annotate(word, (coord[0], coord[1]))\n",
        "\n",
        "  plt.savefig(f'plots/img_{frame}.png')\n",
        "  plt.clf()"
      ]
    },
    {
      "cell_type": "code",
      "execution_count": null,
      "id": "e116aadf",
      "metadata": {
        "id": "e116aadf"
      },
      "outputs": [],
      "source": [
        "import cv2\n",
        "import numpy as np\n",
        "\n",
        "image_paths = [f'plots/img_{frame}.png' for frame in range(len(weight_matrices))]  # Example list of image paths\n",
        "\n",
        "first_image = cv2.imread(image_paths[0])\n",
        "height, width, _ = first_image.shape\n",
        "\n",
        "fourcc = cv2.VideoWriter_fourcc(*'MP4V')\n",
        "video_writer = cv2.VideoWriter('output_video.mp4', fourcc, 15, (width, height))  # Output video file name, codec, FPS, and frame size\n",
        "\n",
        "for image_path in image_paths:\n",
        "    image = cv2.imread(image_path)\n",
        "    video_writer.write(image)\n",
        "\n",
        "#save the plot video\n",
        "video_writer.release()\n"
      ]
    },
    {
      "cell_type": "code",
      "source": [],
      "metadata": {
        "id": "iX48yENPV3QW"
      },
      "id": "iX48yENPV3QW",
      "execution_count": null,
      "outputs": []
    }
  ],
  "metadata": {
    "kernelspec": {
      "display_name": "Python 3",
      "language": "python",
      "name": "python3"
    },
    "language_info": {
      "codemirror_mode": {
        "name": "ipython",
        "version": 3
      },
      "file_extension": ".py",
      "mimetype": "text/x-python",
      "name": "python",
      "nbconvert_exporter": "python",
      "pygments_lexer": "ipython3",
      "version": "3.9.1"
    },
    "vscode": {
      "interpreter": {
        "hash": "f06e3119828c145c4028f0fee76387e74b42caa79bccb80b4ba64fe213bb9e06"
      }
    },
    "colab": {
      "provenance": []
    }
  },
  "nbformat": 4,
  "nbformat_minor": 5
}